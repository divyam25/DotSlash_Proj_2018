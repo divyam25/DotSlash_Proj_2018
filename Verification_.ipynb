{
 "cells": [
  {
   "cell_type": "code",
   "execution_count": 18,
   "metadata": {
    "collapsed": true
   },
   "outputs": [],
   "source": [
    "import http.client, urllib.request, urllib.parse, urllib.error, base64\n",
    "import json"
   ]
  },
  {
   "cell_type": "code",
   "execution_count": 19,
   "metadata": {
    "collapsed": true
   },
   "outputs": [],
   "source": [
    "headers = {\n",
    "    # Request headers\n",
    "    'Content-Type': 'application/octet-stream',\n",
    "    'Ocp-Apim-Subscription-Key': '4418af5597a343288c1e5ce2e7c1ffa4',\n",
    "}\n",
    "\n",
    "params = urllib.parse.urlencode({\n",
    "})"
   ]
  },
  {
   "cell_type": "code",
   "execution_count": 20,
   "metadata": {},
   "outputs": [],
   "source": [
    "ids={1 : '5ed69058-7418-458e-9584-d64e89b018d6',2 : '82a2b00e-98f0-438a-b9ea-6adb7fc4924e'}"
   ]
  },
  {
   "cell_type": "code",
   "execution_count": 38,
   "metadata": {},
   "outputs": [
    {
     "name": "stdout",
     "output_type": "stream",
     "text": [
      "5ed69058-7418-458e-9584-d64e89b018d6\n",
      "b'{\\r\\n  \"result\": \"Accept\",\\r\\n  \"confidence\": \"High\",\\r\\n  \"phrase\": \"my name is unknown to you\"\\r\\n}'\n",
      "82a2b00e-98f0-438a-b9ea-6adb7fc4924e\n",
      "b'{\\r\\n  \"result\": \"Reject\",\\r\\n  \"confidence\": \"High\",\\r\\n  \"phrase\": \"\"\\r\\n}'\n",
      "the culprit is :\n",
      "5ed69058-7418-458e-9584-d64e89b018d6\n"
     ]
    }
   ],
   "source": [
    "for i in range(1,len(ids)+1):\n",
    "    try:\n",
    "        conn = http.client.HTTPSConnection('westus.api.cognitive.microsoft.com')\n",
    "        body=open('F:\\\\rishabh5.wav','rb')\n",
    "        conn.request(\"POST\", \"/spid/v1.0/verify?verificationProfileId=%s&%s\" % (ids[i],params),body.read(), headers)\n",
    "        response = conn.getresponse()\n",
    "        data = response.read()\n",
    "        print(ids[i])\n",
    "        print(data)\n",
    "        conn.close()\n",
    "        a=data.decode(\"utf-8\")\n",
    "        if \"Accept\" in a:\n",
    "            text_file=open(\"F:\\\\output.txt\",\"a\")\n",
    "            text_file.writelines(ids[i]+\" : Present \\n\")\n",
    "            continue\n",
    "        else:\n",
    "            text_file=open(\"F:\\\\output.txt\",\"a\")\n",
    "            text_file.writelines(ids[i]+\" : Absent \\n\")\n",
    "            for j in range(1,len(ids)+1):\n",
    "                if j!=i:\n",
    "                    conn = http.client.HTTPSConnection('westus.api.cognitive.microsoft.com')\n",
    "                    body=open('F:\\\\rishabh5.wav','rb')\n",
    "                    conn.request(\"POST\", \"/spid/v1.0/verify?verificationProfileId=%s&%s\" % (ids[j],params),body.read(), headers)\n",
    "                    response = conn.getresponse()\n",
    "                    data = response.read()\n",
    "                    print (\"the culprit is :\")\n",
    "                    conn.close()\n",
    "                    b=data.decode(\"utf-8\")\n",
    "                    if \"Accept\" in b:\n",
    "                        d=True\n",
    "                    if d==True:\n",
    "                        print(ids[j])\n",
    "    except Exception as e:\n",
    "        print(\"[Errno {0}] {1}\".format(e.errno, e.strerror))\n",
    "text_file.writelines(\"\\n\")"
   ]
  },
  {
   "cell_type": "code",
   "execution_count": 40,
   "metadata": {},
   "outputs": [
    {
     "data": {
      "text/plain": [
       "'82a2b00e-98f0-438a-b9ea-6adb7fc4924e : Absent \\n\\n5ed69058-7418-458e-9584-d64e89b018d6 : Present \\n82a2b00e-98f0-438a-b9ea-6adb7fc4924e : Absent \\n5ed69058-7418-458e-9584-d64e89b018d6 : Present \\n82a2b00e-98f0-438a-b9ea-6adb7fc4924e : Absent \\n5ed69058-7418-458e-9584-d64e89b018d6 : Present \\n'"
      ]
     },
     "execution_count": 40,
     "metadata": {},
     "output_type": "execute_result"
    }
   ],
   "source": [
    "m=open(\"f:\\\\output.txt\",\"r\")\n",
    "m.read()"
   ]
  },
  {
   "cell_type": "code",
   "execution_count": null,
   "metadata": {
    "collapsed": true
   },
   "outputs": [],
   "source": []
  }
 ],
 "metadata": {
  "kernelspec": {
   "display_name": "Python 3",
   "language": "python",
   "name": "python3"
  },
  "language_info": {
   "codemirror_mode": {
    "name": "ipython",
    "version": 3
   },
   "file_extension": ".py",
   "mimetype": "text/x-python",
   "name": "python",
   "nbconvert_exporter": "python",
   "pygments_lexer": "ipython3",
   "version": "3.6.3"
  }
 },
 "nbformat": 4,
 "nbformat_minor": 2
}
