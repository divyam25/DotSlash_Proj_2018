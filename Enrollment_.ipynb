{
 "cells": [
  {
   "cell_type": "code",
   "execution_count": 15,
   "metadata": {
    "collapsed": true
   },
   "outputs": [],
   "source": [
    "import http.client, urllib.request, urllib.parse, urllib.error, base64"
   ]
  },
  {
   "cell_type": "code",
   "execution_count": 16,
   "metadata": {
    "collapsed": true
   },
   "outputs": [],
   "source": [
    "headers = {\n",
    "    # Request headers\n",
    "    'Content-Type': 'multipart/form-data',\n",
    "    'Ocp-Apim-Subscription-Key': '4418af5597a343288c1e5ce2e7c1ffa4',\n",
    "}\n",
    "\n",
    "params = urllib.parse.urlencode({\n",
    "})"
   ]
  },
  {
   "cell_type": "code",
   "execution_count": 23,
   "metadata": {},
   "outputs": [
    {
     "name": "stdout",
     "output_type": "stream",
     "text": [
      "b'{\\r\\n  \"enrollmentStatus\": \"Enrolled\",\\r\\n  \"enrollmentsCount\": 3,\\r\\n  \"remainingEnrollments\": 0,\\r\\n  \"phrase\": \"my name is unknown to you\"\\r\\n}'\n"
     ]
    }
   ],
   "source": [
    "try:\n",
    "    conn = http.client.HTTPSConnection('westus.api.cognitive.microsoft.com')\n",
    "    body=open('F:\\\\rishabh3.wav','rb')\n",
    "    conn.request(\"POST\", \"/spid/v1.0/verificationProfiles/5ed69058-7418-458e-9584-d64e89b018d6/enroll?%s\" % params,body.read(), headers)\n",
    "    response = conn.getresponse()\n",
    "    data = response.read()\n",
    "    print(data)\n",
    "    conn.close()\n",
    "except Exception as e:\n",
    "    print(\"[Errno {0}] {1}\".format(e.errno, e.strerror))"
   ]
  },
  {
   "cell_type": "code",
   "execution_count": null,
   "metadata": {
    "collapsed": true
   },
   "outputs": [],
   "source": []
  }
 ],
 "metadata": {
  "kernelspec": {
   "display_name": "Python 3",
   "language": "python",
   "name": "python3"
  },
  "language_info": {
   "codemirror_mode": {
    "name": "ipython",
    "version": 3
   },
   "file_extension": ".py",
   "mimetype": "text/x-python",
   "name": "python",
   "nbconvert_exporter": "python",
   "pygments_lexer": "ipython3",
   "version": "3.6.3"
  }
 },
 "nbformat": 4,
 "nbformat_minor": 2
}
