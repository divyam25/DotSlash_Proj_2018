{
 "cells": [
  {
   "cell_type": "code",
   "execution_count": 24,
   "metadata": {
    "collapsed": true
   },
   "outputs": [],
   "source": [
    "import http.client, urllib.request, urllib.parse, urllib.error, base64\n",
    "import pandas as pd\n",
    "import numpy as np\n",
    "import ast\n",
    "import json"
   ]
  },
  {
   "cell_type": "code",
   "execution_count": 5,
   "metadata": {
    "collapsed": true
   },
   "outputs": [],
   "source": [
    "headers = {\n",
    "    # Request headers\n",
    "    'Ocp-Apim-Subscription-Key': '4418af5597a343288c1e5ce2e7c1ffa4',\n",
    "}\n",
    "\n",
    "params = urllib.parse.urlencode({\n",
    "})"
   ]
  },
  {
   "cell_type": "code",
   "execution_count": 29,
   "metadata": {},
   "outputs": [],
   "source": [
    "try:\n",
    "    conn = http.client.HTTPSConnection('westus.api.cognitive.microsoft.com')\n",
    "    conn.request(\"GET\", \"/spid/v1.0/verificationProfiles?%s\" % params, \"{body}\", headers)\n",
    "    response = conn.getresponse()\n",
    "    data = response.read()\n",
    "    conn.close()\n",
    "except Exception as e:\n",
    "    print(\"[Errno {0}] {1}\".format(e.errno, e.strerror))"
   ]
  },
  {
   "cell_type": "code",
   "execution_count": 30,
   "metadata": {},
   "outputs": [],
   "source": [
    "s = data.decode(\"utf-8\")\n",
    "s1 = s.strip(\"[\\r\\n \")\n",
    "s2 = s1.strip(\"\\r\\n]\")"
   ]
  },
  {
   "cell_type": "code",
   "execution_count": 31,
   "metadata": {},
   "outputs": [
    {
     "name": "stdout",
     "output_type": "stream",
     "text": [
      "{\r\n",
      "    \"verificationProfileId\": \"33002780-6941-499c-a55e-b44243db0cb2\",\r\n",
      "    \"locale\": \"en-us\",\r\n",
      "    \"enrollmentsCount\": 3,\r\n",
      "    \"remainingEnrollmentsCount\": 0,\r\n",
      "    \"createdDateTime\": \"2018-04-07T23:21:19.107Z\",\r\n",
      "    \"lastActionDateTime\": \"2018-04-07T23:22:14.093Z\",\r\n",
      "    \"enrollmentStatus\": \"Enrolled\"\r\n",
      "  },\r\n",
      "  {\r\n",
      "    \"verificationProfileId\": \"5ed69058-7418-458e-9584-d64e89b018d6\",\r\n",
      "    \"locale\": \"en-us\",\r\n",
      "    \"enrollmentsCount\": 3,\r\n",
      "    \"remainingEnrollmentsCount\": 0,\r\n",
      "    \"createdDateTime\": \"2018-04-07T18:17:48.273Z\",\r\n",
      "    \"lastActionDateTime\": \"2018-04-07T18:19:36.397Z\",\r\n",
      "    \"enrollmentStatus\": \"Enrolled\"\r\n",
      "  },\r\n",
      "  {\r\n",
      "    \"verificationProfileId\": \"82a2b00e-98f0-438a-b9ea-6adb7fc4924e\",\r\n",
      "    \"locale\": \"en-us\",\r\n",
      "    \"enrollmentsCount\": 3,\r\n",
      "    \"remainingEnrollmentsCount\": 0,\r\n",
      "    \"createdDateTime\": \"2018-04-07T16:14:22.811Z\",\r\n",
      "    \"lastActionDateTime\": \"2018-04-07T18:17:16.989Z\",\r\n",
      "    \"enrollmentStatus\": \"Enrolled\"\r\n",
      "  },\r\n",
      "  {\r\n",
      "    \"verificationProfileId\": \"8ca560d3-50c2-4a34-b14c-99914848b048\",\r\n",
      "    \"locale\": \"en-us\",\r\n",
      "    \"enrollmentsCount\": 3,\r\n",
      "    \"remainingEnrollmentsCount\": 0,\r\n",
      "    \"createdDateTime\": \"2018-04-07T23:04:25.504Z\",\r\n",
      "    \"lastActionDateTime\": \"2018-04-07T23:18:41.279Z\",\r\n",
      "    \"enrollmentStatus\": \"Enrolled\"\r\n",
      "  },\r\n",
      "  {\r\n",
      "    \"verificationProfileId\": \"e3222f3e-6d66-4b21-8509-a7aa34bf4172\",\r\n",
      "    \"locale\": \"en-us\",\r\n",
      "    \"enrollmentsCount\": 3,\r\n",
      "    \"remainingEnrollmentsCount\": 0,\r\n",
      "    \"createdDateTime\": \"2018-04-07T23:19:59.155Z\",\r\n",
      "    \"lastActionDateTime\": \"2018-04-07T23:20:59.865Z\",\r\n",
      "    \"enrollmentStatus\": \"Enrolled\"\r\n",
      "  }\n"
     ]
    }
   ],
   "source": [
    "print (s2)"
   ]
  }
 ],
 "metadata": {
  "kernelspec": {
   "display_name": "Python 3",
   "language": "python",
   "name": "python3"
  },
  "language_info": {
   "codemirror_mode": {
    "name": "ipython",
    "version": 3
   },
   "file_extension": ".py",
   "mimetype": "text/x-python",
   "name": "python",
   "nbconvert_exporter": "python",
   "pygments_lexer": "ipython3",
   "version": "3.6.3"
  }
 },
 "nbformat": 4,
 "nbformat_minor": 2
}
