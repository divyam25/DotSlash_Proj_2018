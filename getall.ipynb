{
 "cells": [
  {
   "cell_type": "code",
   "execution_count": 1,
   "metadata": {
    "collapsed": true
   },
   "outputs": [],
   "source": [
    "import http.client, urllib.request, urllib.parse, urllib.error, base64"
   ]
  },
  {
   "cell_type": "code",
   "execution_count": 2,
   "metadata": {
    "collapsed": true
   },
   "outputs": [],
   "source": [
    "headers = {\n",
    "    # Request headers\n",
    "    'Ocp-Apim-Subscription-Key': '92f333dfe122402da4926a439fe4c569',\n",
    "}\n",
    "\n",
    "params = urllib.parse.urlencode({\n",
    "})\n"
   ]
  },
  {
   "cell_type": "code",
   "execution_count": 12,
   "metadata": {},
   "outputs": [
    {
     "name": "stdout",
     "output_type": "stream",
     "text": [
      "b'[\\r\\n  {\\r\\n    \"identificationProfileId\": \"2fc56a35-30af-4bae-a13e-63a4f07bafc4\",\\r\\n    \"locale\": \"en-us\",\\r\\n    \"enrollmentSpeechTime\": 2.08,\\r\\n    \"remainingEnrollmentSpeechTime\": 0.0,\\r\\n    \"createdDateTime\": \"2018-04-07T13:37:53.512Z\",\\r\\n    \"lastActionDateTime\": \"2018-04-07T13:39:00.069Z\",\\r\\n    \"enrollmentStatus\": \"Enrolled\"\\r\\n  },\\r\\n  {\\r\\n    \"identificationProfileId\": \"96161ea5-feaa-427d-ba76-5d2571ee7bef\",\\r\\n    \"locale\": \"en-us\",\\r\\n    \"enrollmentSpeechTime\": 2.53,\\r\\n    \"remainingEnrollmentSpeechTime\": 0.0,\\r\\n    \"createdDateTime\": \"2018-04-07T13:36:42.129Z\",\\r\\n    \"lastActionDateTime\": \"2018-04-07T13:37:40.233Z\",\\r\\n    \"enrollmentStatus\": \"Enrolled\"\\r\\n  }\\r\\n]'\n"
     ]
    }
   ],
   "source": [
    "try:\n",
    "    conn = http.client.HTTPSConnection('westus.api.cognitive.microsoft.com')\n",
    "    conn.request(\"GET\", \"/spid/v1.0/identificationProfiles?%s\" % params, \"{body}\", headers)\n",
    "    response = conn.getresponse()\n",
    "    data = response.read()\n",
    "    print(data)\n",
    "    conn.close()\n",
    "except Exception as e:\n",
    "    print(\"[Errno {0}] {1}\".format(e.errno, e.strerror))"
   ]
  },
  {
   "cell_type": "code",
   "execution_count": null,
   "metadata": {
    "collapsed": true
   },
   "outputs": [],
   "source": []
  }
 ],
 "metadata": {
  "kernelspec": {
   "display_name": "Python 3",
   "language": "python",
   "name": "python3"
  },
  "language_info": {
   "codemirror_mode": {
    "name": "ipython",
    "version": 3
   },
   "file_extension": ".py",
   "mimetype": "text/x-python",
   "name": "python",
   "nbconvert_exporter": "python",
   "pygments_lexer": "ipython3",
   "version": "3.6.3"
  }
 },
 "nbformat": 4,
 "nbformat_minor": 2
}
