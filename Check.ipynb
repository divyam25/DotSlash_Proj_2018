{
 "cells": [
  {
   "cell_type": "code",
   "execution_count": 1,
   "metadata": {
    "collapsed": true
   },
   "outputs": [],
   "source": [
    "import http.client, urllib.request, urllib.parse, urllib.error, base64"
   ]
  },
  {
   "cell_type": "code",
   "execution_count": 2,
   "metadata": {
    "collapsed": true
   },
   "outputs": [],
   "source": [
    "headers = {\n",
    "    # Request headers\n",
    "    'Content-Type': 'application/octet-stream',\n",
    "    'Ocp-Apim-Subscription-Key': '4418af5597a343288c1e5ce2e7c1ffa4',\n",
    "}\n",
    "\n",
    "params = urllib.parse.urlencode({\n",
    "})"
   ]
  },
  {
   "cell_type": "code",
   "execution_count": 7,
   "metadata": {},
   "outputs": [
    {
     "name": "stdout",
     "output_type": "stream",
     "text": [
      "b'{\\r\\n  \"result\": \"Accept\",\\r\\n  \"confidence\": \"High\",\\r\\n  \"phrase\": \"my name is unknown to you\"\\r\\n}'\n"
     ]
    }
   ],
   "source": [
    "try:\n",
    "        conn = http.client.HTTPSConnection('westus.api.cognitive.microsoft.com')\n",
    "        body=open('F:\\\\deep4.wav','rb')\n",
    "        conn.request(\"POST\", \"/spid/v1.0/verify?verificationProfileId=e3222f3e-6d66-4b21-8509-a7aa34bf4172&%s\" % params,body.read(), headers)\n",
    "        response = conn.getresponse()\n",
    "        data = response.read()\n",
    "        print(data)\n",
    "        conn.close()\n",
    "except Exception as e:\n",
    "        print(\"[Errno {0}] {1}\".format(e.errno, e.strerror))"
   ]
  },
  {
   "cell_type": "code",
   "execution_count": null,
   "metadata": {
    "collapsed": true
   },
   "outputs": [],
   "source": []
  }
 ],
 "metadata": {
  "kernelspec": {
   "display_name": "Python 3",
   "language": "python",
   "name": "python3"
  },
  "language_info": {
   "codemirror_mode": {
    "name": "ipython",
    "version": 3
   },
   "file_extension": ".py",
   "mimetype": "text/x-python",
   "name": "python",
   "nbconvert_exporter": "python",
   "pygments_lexer": "ipython3",
   "version": "3.6.3"
  }
 },
 "nbformat": 4,
 "nbformat_minor": 2
}
